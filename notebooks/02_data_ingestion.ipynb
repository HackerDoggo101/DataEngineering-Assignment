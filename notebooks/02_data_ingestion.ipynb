{
 "cells": [
  {
   "cell_type": "code",
   "execution_count": 14,
   "id": "e1f4925d-cd4b-4048-857b-58431dd6207f",
   "metadata": {},
   "outputs": [],
   "source": [
    "## Author: Wong Yee En"
   ]
  },
  {
   "cell_type": "code",
   "execution_count": 4,
   "id": "1f8afe12-1c9c-4c1d-bec0-cdeaa0418f61",
   "metadata": {},
   "outputs": [
    {
     "name": "stderr",
     "output_type": "stream",
     "text": [
      "24/09/07 00:53:36 WARN SparkSession: Using an existing Spark session; only runtime SQL configurations will take effect.\n"
     ]
    }
   ],
   "source": [
    "from pyspark.sql import SparkSession\n",
    "\n",
    "spark = SparkSession\\\n",
    "        .builder\\\n",
    "        .appName(\"Ingestion\")\\\n",
    "        .getOrCreate()"
   ]
  },
  {
   "cell_type": "code",
   "execution_count": 5,
   "id": "7d521825-778b-4e3b-bcc9-e675556275af",
   "metadata": {},
   "outputs": [
    {
     "name": "stderr",
     "output_type": "stream",
     "text": [
      "24/09/07 00:53:36 WARN SparkContext: The path ../de_classes/data_storage/hadoop_file_handler.py has been added already. Overwriting of added paths is not supported in the current version.\n"
     ]
    }
   ],
   "source": [
    "sc = spark.sparkContext\n",
    "sc.addFile(\"../de_classes/data_storage/hadoop_file_handler.py\")"
   ]
  },
  {
   "cell_type": "code",
   "execution_count": 6,
   "id": "5d21031c-bd24-47c0-a1ca-90d835267f04",
   "metadata": {},
   "outputs": [
    {
     "name": "stderr",
     "output_type": "stream",
     "text": [
      "24/09/07 00:53:37 WARN SparkSession: Using an existing Spark session; only runtime SQL configurations will take effect.\n",
      "                                                                                \r"
     ]
    }
   ],
   "source": [
    "# Import the HadoopFileHandler class\n",
    "from hadoop_file_handler import HadoopFileHandler\n",
    "\n",
    "# Create an instance of HadoopFileHandler\n",
    "handler = HadoopFileHandler()\n",
    "\n",
    "df = handler.read_csv(\"data/raw/\" + \"*.csv\")\n",
    "\n",
    "output_path = \"data/merged/merged_reviews.csv\"\n",
    "handler.write_csv(df, output_path)"
   ]
  },
  {
   "cell_type": "code",
   "execution_count": 7,
   "id": "9dac38e4-0809-4a1f-b326-7c909d659b9d",
   "metadata": {},
   "outputs": [],
   "source": [
    "df = handler.read_csv('data/merged/merged_reviews.csv')"
   ]
  },
  {
   "cell_type": "code",
   "execution_count": 8,
   "id": "119bbd76-4695-43bb-b6cf-02a024361591",
   "metadata": {},
   "outputs": [
    {
     "name": "stdout",
     "output_type": "stream",
     "text": [
      "Total number of rows: 5767\n"
     ]
    }
   ],
   "source": [
    "total_rows = df.count()\n",
    "print(f\"Total number of rows: {total_rows}\")"
   ]
  },
  {
   "cell_type": "code",
   "execution_count": 9,
   "id": "3687c56f-f691-4fd4-a00c-7d66d2a5969e",
   "metadata": {},
   "outputs": [
    {
     "name": "stdout",
     "output_type": "stream",
     "text": [
      "+------------+--------------------+--------------------+------------+---------+\n",
      "|        Name|              Review|             SkuInfo|        Date|StarCount|\n",
      "+------------+--------------------+--------------------+------------+---------+\n",
      "|       1***1|Comfortable fit a...|  color_family:White| 11 May 2024|        5|\n",
      "|     Coco M.|Very cheap at les...|  color_family:Black| 08 May 2024|        5|\n",
      "|       1***1|Secure nose clip ...|  color_family:Black| 11 May 2024|        5|\n",
      "|       P***.|Easy to wear and ...|  color_family:Black| 19 Jun 2024|        5|\n",
      "|      ong T.|this face mask go...|  color_family:Black| 22 May 2024|        5|\n",
      "|      zin M.|I buy White 8 Not...|  color_family:White| 19 Aug 2023|        5|\n",
      "|       D***.|Goods received in...|  color_family:White| 24 Apr 2024|        5|\n",
      "|       G***n|overall ok. U get...|  color_family:Black| 17 Apr 2024|        5|\n",
      "|      nur N.|CANTIKKK GILE 😭 ...|   Color Family:Pink| 15 Feb 2022|        5|\n",
      "|      Lim C.|Good packing, rec...|color_family:Navy...| 15 Dec 2023|        5|\n",
      "|   Joanne L.|Goods received in...|  color_family:Black| 08 Dec 2023|        4|\n",
      "|        Vivi|High-quality mate...|  color_family:White|  1  day ago|        5|\n",
      "|  susilawati|maaf boss baru se...|  color_family:Black| 20 Oct 2023|        5|\n",
      "|digitalvault|So far good, I wi...|  color_family:Black|2  weeks ago|        5|\n",
      "|       ****2|Pretty decent mas...|  color_family:Black|2  weeks ago|        5|\n",
      "|       R***.|High-quality mate...|  color_family:White| 1  week ago|        5|\n",
      "|     Suki S.|Received in short...|    color_family:Red| 02 Oct 2023|        5|\n",
      "|     Suki S.|Received in short...| color_family:Purple| 02 Oct 2023|        5|\n",
      "|     Suki S.|Received in short...|   color_family:Pink| 02 Oct 2023|        5|\n",
      "|      Jay L.|High-quality mate...|  color_family:White| 29 Jun 2024|        5|\n",
      "+------------+--------------------+--------------------+------------+---------+\n",
      "only showing top 20 rows\n",
      "\n"
     ]
    }
   ],
   "source": [
    "df.show(truncate=True)"
   ]
  },
  {
   "cell_type": "code",
   "execution_count": 10,
   "id": "5761f6b0-0bae-4128-9bf6-8335e3dbe4f7",
   "metadata": {},
   "outputs": [],
   "source": [
    "spark.stop()"
   ]
  }
 ],
 "metadata": {
  "kernelspec": {
   "display_name": "de-venv",
   "language": "python",
   "name": "de-venv"
  },
  "language_info": {
   "codemirror_mode": {
    "name": "ipython",
    "version": 3
   },
   "file_extension": ".py",
   "mimetype": "text/x-python",
   "name": "python",
   "nbconvert_exporter": "python",
   "pygments_lexer": "ipython3",
   "version": "3.10.12"
  }
 },
 "nbformat": 4,
 "nbformat_minor": 5
}
