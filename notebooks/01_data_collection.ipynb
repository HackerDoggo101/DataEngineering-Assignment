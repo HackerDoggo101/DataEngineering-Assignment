{
 "cells": [
  {
   "cell_type": "code",
   "execution_count": null,
   "metadata": {},
   "outputs": [],
   "source": [
    "## Author: Wong Yee En"
   ]
  },
  {
   "cell_type": "markdown",
   "metadata": {},
   "source": [
    "## Web Scraping"
   ]
  },
  {
   "cell_type": "code",
   "execution_count": 2,
   "metadata": {},
   "outputs": [
    {
     "name": "stdout",
     "output_type": "stream",
     "text": [
      "1***1 Comfortable fit and stylish design, Easy to wear and fold, Effective four-layer filtration, color_family:White 11 May 2024 5\n",
      "Mui L. Perfect size for adults, Comfortable fit and stylish design, Convenient earloop design, Variety of colors to choose from, color_family:Black 1  day ago 5\n",
      "1***5 Waterproof and breathable mask, Variety of colors to choose from, Effective four-layer filtration, Perfect size for adults, color_family:White 1  week ago 5\n",
      "Mui L. Perfect size for adults, Convenient earloop design, Comfortable fit and stylish design, color_family:White 1  day ago 5\n",
      "ow K. abit more transparent or thinner material than usual. also smaller. fast delivery. placed on Aug 5, got on Aug 7. color_family:White 07 Aug 2024 4\n",
      "I***y Variety of colors to choose from, \n",
      "Perfect size for adults, Easy to wear and fold. color_family:Black 3  weeks ago 5\n",
      "Chan M. Convenient earloop design, High-quality materials used, color_family:White 1  week ago 5\n",
      "J***y good value for money\n",
      "delivery also ok\n",
      "Thank you Lazada color_family:Black 3  weeks ago 5\n",
      "NG T. Convenient earloop design, Convenient earloop design, color_family:White 3  weeks ago 5\n",
      "Coco M. Very cheap at less than 10c each of these mask. The quality is actually quite thin, just normal use, I don’t think suitable for patients. By the way it’s value buy. color_family:Black 08 May 2024 5\n",
      "1***1 Secure nose clip for a snug fit, Waterproof and breathable mask, Convenient earloop design, color_family:Black 11 May 2024 5\n",
      "P***. Easy to wear and fold, Price affordable\n",
      "Perfect size for adults, color_family:Black 19 Jun 2024 5\n",
      "zin M. I buy White 8 Not good ❌❌❌❌\n",
      "black colour 👌👌👌👌👌👍👍👍👍\n",
      "\n",
      "\n",
      "\n",
      "white Don't buy color_family:White 19 Aug 2023 5\n",
      "ong T. this face mask good quality and good condition , \n",
      "fast delivery. color_family:Black 22 May 2024 5\n",
      "D***. Goods received in good conditions. Well packed and fast delivery. color_family:White 24 Apr 2024 5\n"
     ]
    }
   ],
   "source": [
    "# Import the LazadaScrapeWithoutAPI class from the Python file\n",
    "from lazada_scrape_selenium import LazadaScrapeWithoutAPI\n",
    "\n",
    "# URL of the Lazada product page to scrape\n",
    "url = 'https://www.lazada.com.my/products/kf94-korea-mask-4-layer-disposable-earloop-face-mask-kf94-pelitup-muka-kf94-10pcs-i2588145011-s14052243651.html?spm=a2o4k.searchlist.list.0'\n",
    "\n",
    "# Initialize the scraper object\n",
    "scraper = LazadaScrapeWithoutAPI(url, max_pages=3)\n",
    "\n",
    "# Scrape the reviews\n",
    "scraper.scrape_reviews()\n",
    "\n",
    "# Export the reviews to JSON and CSV files\n",
    "scraper.export_to_json('lazada_reviews.json')\n",
    "scraper.export_to_csv('lazada_reviews.csv')\n",
    "\n",
    "# Clear reviews if needed (for a new scraping session)\n",
    "scraper.clear_reviews()\n"
   ]
  },
  {
   "cell_type": "markdown",
   "metadata": {},
   "source": [
    "## API "
   ]
  },
  {
   "cell_type": "code",
   "execution_count": 3,
   "metadata": {},
   "outputs": [],
   "source": [
    "# Import the LazadaScrapeWithAPI class\n",
    "from lazada_scrape_api import LazadaScrapeWithAPI\n",
    "\n",
    "# List of Lazada product URLs\n",
    "urls = [\n",
    "    'https://www.lazada.com.my/products/kf94-korea-earloop-headloop-4-ply-disposable-earloop-face-mask-kf94-pelitup-muka-kf94-i2588088190-s14051667233.html',\n",
    "    'https://www.lazada.com.my/products/kf94-korea-mask-4-layer-disposable-earloop-face-mask-kf94-pelitup-muka-kf94-10pcs-i2588145011-s14052243651.html'\n",
    "]\n",
    "\n",
    "# Authentication credentials for Oxylabs API\n",
    "auth_credentials = ('YeeEn_J1wov', 'Yeeenlenglui00~')\n",
    "\n",
    "# Initialize the scraper object\n",
    "scraper = LazadaScrapeWithAPI(auth_credentials)\n",
    "\n",
    "# Scrape reviews from the list of URLs\n",
    "scraper.scrape_reviews(urls)\n",
    "\n",
    "# Export the scraped data to JSON and CSV\n",
    "scraper.export_to_json('reviews_api_example.json')\n",
    "scraper.export_to_csv('reviews_api_example.csv')\n",
    "\n",
    "# Clear reviews\n",
    "scraper.clear_reviews()\n"
   ]
  },
  {
   "cell_type": "code",
   "execution_count": null,
   "metadata": {},
   "outputs": [],
   "source": []
  }
 ],
 "metadata": {
  "kernelspec": {
   "display_name": "Python 3 (ipykernel)",
   "language": "python",
   "name": "python3"
  },
  "language_info": {
   "codemirror_mode": {
    "name": "ipython",
    "version": 3
   },
   "file_extension": ".py",
   "mimetype": "text/x-python",
   "name": "python",
   "nbconvert_exporter": "python",
   "pygments_lexer": "ipython3",
   "version": "3.10.12"
  }
 },
 "nbformat": 4,
 "nbformat_minor": 4
}
