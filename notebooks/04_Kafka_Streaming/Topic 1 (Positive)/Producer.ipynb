{
 "cells": [
  {
   "cell_type": "code",
   "execution_count": 1,
   "id": "7c73ef2e-d17f-43ed-b84f-f64dfe2196ca",
   "metadata": {},
   "outputs": [],
   "source": [
    "## Author: Yam Jason"
   ]
  },
  {
   "cell_type": "code",
   "execution_count": 1,
   "id": "4b78bf3e-f703-4141-ac02-42a49c6f7270",
   "metadata": {},
   "outputs": [
    {
     "name": "stderr",
     "output_type": "stream",
     "text": [
      "24/09/07 15:09:02 WARN Utils: Your hostname, WeirdSmile. resolves to a loopback address: 127.0.1.1; using 10.255.255.254 instead (on interface lo)\n",
      "24/09/07 15:09:02 WARN Utils: Set SPARK_LOCAL_IP if you need to bind to another address\n",
      "Setting default log level to \"WARN\".\n",
      "To adjust logging level use sc.setLogLevel(newLevel). For SparkR, use setLogLevel(newLevel).\n",
      "24/09/07 15:09:03 WARN NativeCodeLoader: Unable to load native-hadoop library for your platform... using builtin-java classes where applicable\n"
     ]
    }
   ],
   "source": [
    "from pyspark.sql import SparkSession\n",
    "\n",
    "spark = SparkSession\\\n",
    "        .builder\\\n",
    "        .appName(\"Producer\")\\\n",
    "        .getOrCreate()"
   ]
  },
  {
   "cell_type": "markdown",
   "id": "c6ccc993-196f-4491-8813-287a6690292b",
   "metadata": {},
   "source": [
    "## Load predictions from JSON"
   ]
  },
  {
   "cell_type": "code",
   "execution_count": 2,
   "id": "425149a3-1a87-4fb7-9100-b9ca14d41ffa",
   "metadata": {},
   "outputs": [
    {
     "name": "stderr",
     "output_type": "stream",
     "text": [
      "24/09/07 15:09:07 WARN SparkSession: Using an existing Spark session; only runtime SQL configurations will take effect.\n",
      "                                                                                \r"
     ]
    }
   ],
   "source": [
    "sc = spark.sparkContext\n",
    "sc.addFile(\"../../../de_classes/data_storage/hadoop_file_handler.py\")\n",
    "\n",
    "# Import the HadoopFileHandler class\n",
    "from hadoop_file_handler import HadoopFileHandler\n",
    "\n",
    "# Create an instance of HadoopFileHandler\n",
    "handler = HadoopFileHandler()\n",
    "\n",
    "# Read raw data from HDFS\n",
    "df = handler.read_json('data/predictions/predictions3.json')\n"
   ]
  },
  {
   "cell_type": "code",
   "execution_count": 3,
   "id": "27c17705-d9b0-409a-9efd-e33c36c1100c",
   "metadata": {},
   "outputs": [
    {
     "name": "stdout",
     "output_type": "stream",
     "text": [
      "+----------------------------------------------------------------------------------------------------------------------------------------------------------+----------+\n",
      "|Review                                                                                                                                                    |prediction|\n",
      "+----------------------------------------------------------------------------------------------------------------------------------------------------------+----------+\n",
      "|all item are good but get i order                                                                                                                         |2.0       |\n",
      "|good seller delivery man parcel good condition                                                                                                            |2.0       |\n",
      "|comfortable mask                                                                                                                                          |2.0       |\n",
      "|so good                                                                                                                                                   |2.0       |\n",
      "|best best best                                                                                                                                            |2.0       |\n",
      "|v good tq                                                                                                                                                 |2.0       |\n",
      "|i am so happy i have received goods today i am very satisfied happy                                                                                       |2.0       |\n",
      "|fast delivery good quality nice packing will order again                                                                                                  |2.0       |\n",
      "|received good condition                                                                                                                                   |2.0       |\n",
      "|item not enough oder got je chat seller has asked send enough not enough items but seller doesn t care other people say he says something else send s hard|0.0       |\n",
      "+----------------------------------------------------------------------------------------------------------------------------------------------------------+----------+\n",
      "only showing top 10 rows\n",
      "\n"
     ]
    }
   ],
   "source": [
    "df.show(10, truncate=False)"
   ]
  },
  {
   "cell_type": "markdown",
   "id": "5a3a78c7-c38d-42b8-8634-9834ac61b47e",
   "metadata": {},
   "source": [
    "## Filter only Positive Reviews"
   ]
  },
  {
   "cell_type": "code",
   "execution_count": 4,
   "id": "379260b3-623e-4e05-b9bc-c0e1219c4588",
   "metadata": {},
   "outputs": [],
   "source": [
    "# Filter DataFrame to only contain rows where prediction = 1.0\n",
    "filtered_df = df.filter(df.prediction == 2.0)"
   ]
  },
  {
   "cell_type": "code",
   "execution_count": 5,
   "id": "0f744204-06f2-4849-9cc0-7a90099c2462",
   "metadata": {},
   "outputs": [
    {
     "data": {
      "text/plain": [
       "561"
      ]
     },
     "execution_count": 5,
     "metadata": {},
     "output_type": "execute_result"
    }
   ],
   "source": [
    "filtered_df.count()"
   ]
  },
  {
   "cell_type": "markdown",
   "id": "abf15b49-f8fe-4d03-be45-6e677db35965",
   "metadata": {},
   "source": [
    "## Produce Messages"
   ]
  },
  {
   "cell_type": "code",
   "execution_count": null,
   "id": "03c833ee-5fa3-4c98-a642-75e8f75b09cd",
   "metadata": {},
   "outputs": [],
   "source": [
    "# kafka-topics.sh --create --bootstrap-server localhost:9092 --replication-factor 1 --partitions 1 --topic positiveReviews"
   ]
  },
  {
   "cell_type": "code",
   "execution_count": 6,
   "id": "0236817c-ea72-417b-b00e-e57bd99afbda",
   "metadata": {},
   "outputs": [],
   "source": [
    "sc = spark.sparkContext\n",
    "sc.addFile(\"../../../de_classes/event_streaming/KafkaProducer.py\")"
   ]
  },
  {
   "cell_type": "code",
   "execution_count": 7,
   "id": "192b0f87-91d4-40d4-bc0d-3d1623350368",
   "metadata": {},
   "outputs": [],
   "source": [
    "from KafkaProducer import KafkaProducerClass\n",
    "\n",
    "positiveProducer = KafkaProducerClass(bootstrap_servers='localhost:9092', topic_name='positiveReviews')"
   ]
  },
  {
   "cell_type": "code",
   "execution_count": 8,
   "id": "42cfde9e-cb7d-486c-b842-21b1c2b60eec",
   "metadata": {},
   "outputs": [],
   "source": [
    "# Assuming `df` is your DataFrame and it has a column named \"Review\"\n",
    "for row in filtered_df.select(\"Review\").collect():\n",
    "    review = row[\"Review\"]\n",
    "    positiveProducer.produce_message({\"Positive Review\": review})"
   ]
  },
  {
   "cell_type": "code",
   "execution_count": 9,
   "id": "1103c344-936c-47d5-9caf-4cf9d8e7f7e8",
   "metadata": {},
   "outputs": [],
   "source": [
    "positiveProducer.close()"
   ]
  },
  {
   "cell_type": "code",
   "execution_count": 11,
   "id": "1a9d67ea-7a9d-4e65-98d0-c59f173e39b0",
   "metadata": {},
   "outputs": [],
   "source": [
    "spark.stop()"
   ]
  },
  {
   "cell_type": "code",
   "execution_count": null,
   "id": "f25ffb0e-31c3-4f71-abc8-772bde91f770",
   "metadata": {},
   "outputs": [],
   "source": []
  }
 ],
 "metadata": {
  "kernelspec": {
   "display_name": "de-venv",
   "language": "python",
   "name": "de-venv"
  },
  "language_info": {
   "codemirror_mode": {
    "name": "ipython",
    "version": 3
   },
   "file_extension": ".py",
   "mimetype": "text/x-python",
   "name": "python",
   "nbconvert_exporter": "python",
   "pygments_lexer": "ipython3",
   "version": "3.10.12"
  }
 },
 "nbformat": 4,
 "nbformat_minor": 5
}
