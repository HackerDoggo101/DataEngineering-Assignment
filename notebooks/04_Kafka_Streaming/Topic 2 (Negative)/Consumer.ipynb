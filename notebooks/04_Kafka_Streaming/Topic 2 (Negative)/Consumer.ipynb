{
 "cells": [
  {
   "cell_type": "code",
   "execution_count": 1,
   "id": "508e1abd-a0d8-4fdc-b549-b5cc645b3932",
   "metadata": {},
   "outputs": [],
   "source": [
    "## Author: Yam Jason"
   ]
  },
  {
   "cell_type": "code",
   "execution_count": 2,
   "id": "a9a56176-44ab-45ec-86c3-0138376af562",
   "metadata": {},
   "outputs": [
    {
     "name": "stderr",
     "output_type": "stream",
     "text": [
      "24/09/07 15:10:58 WARN Utils: Your hostname, WeirdSmile. resolves to a loopback address: 127.0.1.1; using 10.255.255.254 instead (on interface lo)\n",
      "24/09/07 15:10:58 WARN Utils: Set SPARK_LOCAL_IP if you need to bind to another address\n",
      "Setting default log level to \"WARN\".\n",
      "To adjust logging level use sc.setLogLevel(newLevel). For SparkR, use setLogLevel(newLevel).\n",
      "24/09/07 15:10:59 WARN NativeCodeLoader: Unable to load native-hadoop library for your platform... using builtin-java classes where applicable\n",
      "24/09/07 15:11:00 WARN Utils: Service 'SparkUI' could not bind on port 4040. Attempting port 4041.\n",
      "24/09/07 15:11:00 WARN Utils: Service 'SparkUI' could not bind on port 4041. Attempting port 4042.\n"
     ]
    }
   ],
   "source": [
    "from pyspark.sql import SparkSession\n",
    "\n",
    "spark = SparkSession\\\n",
    "        .builder\\\n",
    "        .appName(\"Consumer\")\\\n",
    "        .getOrCreate()"
   ]
  },
  {
   "cell_type": "markdown",
   "id": "918f886b-d9bb-48c6-afc9-2a6c00faed85",
   "metadata": {},
   "source": [
    "## Consume Messages"
   ]
  },
  {
   "cell_type": "code",
   "execution_count": 3,
   "id": "03218bba-165c-49cc-9b7b-236a91c01433",
   "metadata": {},
   "outputs": [],
   "source": [
    "sc = spark.sparkContext\n",
    "sc.addFile(\"../../../de_classes/event_streaming/KafkaConsumer.py\")"
   ]
  },
  {
   "cell_type": "code",
   "execution_count": 4,
   "id": "db06442e-9ecf-40fb-9905-8a95efb20339",
   "metadata": {},
   "outputs": [],
   "source": [
    "from KafkaConsumer import KafkaConsumerClass\n",
    "\n",
    "# Create an instance of KafkaConsumerClass\n",
    "negativeConsumer = KafkaConsumerClass(bootstrap_servers='localhost:9092', topic_name='negativeReviews')\n"
   ]
  },
  {
   "cell_type": "code",
   "execution_count": null,
   "id": "accea6d1-d116-4871-9a9c-0abed2871830",
   "metadata": {},
   "outputs": [
    {
     "name": "stdout",
     "output_type": "stream",
     "text": [
      "Received message: {'Negative Review': 'item not enough oder got je chat seller has asked send enough not enough items but seller doesn t care other people say he says something else send s hard'}\n",
      "Received message: {'Negative Review': 'so poor service angry seller i ordered but seller only gave me i didn t ordered colours then gave all colours return back my money me'}\n",
      "Received message: {'Negative Review': 'if there no goods you can say you are out stock you can refund money don t deceive'}\n",
      "Received message: {'Negative Review': 'i ordered pink navy blue colour but i get all grey color i m quite disappointed not yet use so quality don t know yet'}\n",
      "Received message: {'Negative Review': 'very bad qualities not layer mask cheap price comes cheap qualities can be used sake using mask but definitely not protection reason'}\n",
      "Received message: {'Negative Review': 'very thin'}\n",
      "Received message: {'Negative Review': 'received but top not zipped properly order light green but colour difference what s sell also dark red also pink'}\n",
      "Received message: {'Negative Review': 'send enough stuff dark brown masks are not delivered nasty'}\n",
      "Received message: {'Negative Review': 'i requested dark red they send me pink color mask not satisfied all next time please check what customer order'}\n",
      "Received message: {'Negative Review': 'quality very satisfied delivery quickly until seller'}\n",
      "Received message: {'Negative Review': 'received item short pack green colour i order color each colour pack but green colour come pack only'}\n",
      "Received message: {'Negative Review': 'i already order blue colour but received all black colour i want make complaint because seller already change blue colour black colour'}\n",
      "Received message: {'Negative Review': 'your mask not good hurt people all'}\n",
      "Received message: {'Negative Review': 'very thin'}\n",
      "Received message: {'Negative Review': 'i bought each colour try can say s mix bag there are some thinner some thicker i would avoid light blue purple orange light grey because those feel thin compared rest rest colours feel better but s not up par best above average'}\n",
      "Received message: {'Negative Review': 'very thin layer poor quality'}\n",
      "Received message: {'Negative Review': 'very thin'}\n",
      "Received message: {'Negative Review': 'much more comfortable wear compared those normal mask'}\n",
      "Received message: {'Negative Review': 'alhamdulillah item has arrived but s not same we ordered another'}\n",
      "Received message: {'Negative Review': 'thin setically price ordered black headloop can be white headloop hurmmm if you are out stock before ship'}\n",
      "Received message: {'Negative Review': 'ookkkkkk'}\n",
      "Received message: {'Negative Review': 'ordered received one got wrong colour s forgiven btw'}\n",
      "Received message: {'Negative Review': 'fast delivery quality not bad'}\n",
      "Received message: {'Negative Review': 'received products good conditions quality not bad been repurchase seller many times'}\n",
      "Received message: {'Negative Review': 'package damaged dirty unhygienic throw away away not refundable bcos throw away cannot understand why ng packaging dirty condition need returned get refund'}\n",
      "Received message: {'Negative Review': 'very thin claimed be korea but they are made china'}\n",
      "Received message: {'Negative Review': 'send wrong products seller not honour'}\n",
      "Received message: {'Negative Review': 's really disgusting i bought packs masks only packs were unpacked when goods arrived businessman so dishonest simply rotten'}\n",
      "Received message: {'Negative Review': 'initially have some paint smell but then oklah overall good product value recommended buy non colour type avoid paint smell'}\n",
      "Received message: {'Negative Review': 'thin'}\n",
      "Received message: {'Negative Review': 'average quality but colour not bad'}\n",
      "Received message: {'Negative Review': 'defective'}\n",
      "Received message: {'Negative Review': 'poor service sent instead when asked refund asked me return refund _'}\n",
      "Received message: {'Negative Review': 'super thin worst mask ever bought all mask cannot use ban seller'}\n",
      "Received message: {'Negative Review': 'strong smell lar can t hold'}\n",
      "Received message: {'Negative Review': 'unfortunately what sent me wrong i ordered earloop masks what delivered head loop not good all when clearly stated order i have sent supplier messages noone has replied am very disappointed i have ordered same supplier many times before i cannot use these so what will i do them'}\n",
      "Received message: {'Negative Review': 'quality very thin compare others'}\n",
      "Received message: {'Negative Review': 'my parcel less pack face mask seller told me dispute someone actually i also don t know who i m gonna dispute not seller be aware seller'}\n",
      "Received message: {'Negative Review': 'goods are up good condition t thank you pd sell flash my delivery fast'}\n",
      "Received message: {'Negative Review': 'poor quality'}\n",
      "Received message: {'Negative Review': 'one packet plastic broken'}\n",
      "Received message: {'Negative Review': 'wrong colour'}\n",
      "Received message: {'Negative Review': 'less one pack pink mask bought packs pink mask but only get packs masks have strong chemical smell poor quality'}\n",
      "Received message: {'Negative Review': 'seller did not send blue color mask hope buy again'}\n",
      "Received message: {'Negative Review': 'colour not same advertised meltblown between waterproof'}\n",
      "Received message: {'Negative Review': 'nice tetapi thin sngt ckp lys tetapi thin sngt tetapi ok jg'}\n",
      "Received message: {'Negative Review': 'mask not very thin'}\n",
      "Received message: {'Negative Review': 'low price s worth buying'}\n",
      "Received message: {'Negative Review': 'round quality masks are not so good thin nose clip just out can easily causing scratch nose'}\n",
      "Received message: {'Negative Review': 'cheap price low quality cheating seller not made korea delivery too slow'}\n",
      "Received message: {'Negative Review': 'very nice thank you seller'}\n",
      "Received message: {'Negative Review': 'toooo thin maak'}\n",
      "Received message: {'Negative Review': 'late delivery'}\n",
      "Received message: {'Negative Review': 'did not recd colour ordered earlier but lazy ask refund lots red tapes involved'}\n",
      "Received message: {'Negative Review': 'top seller always well done'}\n",
      "Received message: {'Negative Review': 'bad won t buy again difficult breathe very thin layers also fake brand'}\n",
      "Received message: {'Negative Review': 'i ordered pcs there can be'}\n",
      "Received message: {'Negative Review': 'product quality ok just little face mask rope so uncomfortable face ears little pain'}\n",
      "Received message: {'Negative Review': 'product made china not described'}\n",
      "Received message: {'Negative Review': 'only not ply'}\n",
      "Received message: {'Negative Review': 'shop happy ja son purchase deliver quickly'}\n",
      "Received message: {'Negative Review': 'face mask here quality ok fast shipping can repeat later tq seller'}\n",
      "Received message: {'Negative Review': 'i order pcs bt i get pcs only i wan refund'}\n",
      "Received message: {'Negative Review': 'i bought packs headloop masks but up packs'}\n",
      "Received message: {'Negative Review': 'send me wrong colors'}\n",
      "Received message: {'Negative Review': 'normal quality delivery fast but wrong colour given bought navy but given other blue pls double check again so same mistake can be prevent'}\n",
      "Received message: {'Negative Review': 'quality not good really'}\n",
      "Received message: {'Negative Review': 'quality not really abit thin but colour same pic what i expect'}\n",
      "Received message: {'Negative Review': 'quality not good very thin'}\n",
      "Received message: {'Negative Review': 's too thin'}\n",
      "Received message: {'Negative Review': 'so bad i asked mask didn t go his nose split mask me i wanted change'}\n",
      "Received message: {'Negative Review': 'less pack mask order pack up packs only'}\n",
      "Received message: {'Negative Review': 'did not send goods home'}\n",
      "Received message: {'Negative Review': 'no good wrong item sent no good please think twice before you buy'}\n",
      "Received message: {'Negative Review': 'mask very thick according face not how big'}\n",
      "Received message: {'Negative Review': 'colour so nice'}\n",
      "Received message: {'Negative Review': 'speedy delivery nice seller if can come more faster will take more future'}\n",
      "Received message: {'Negative Review': 'product very low quality inside too thin i don t think there layer inside disappointed'}\n",
      "Received message: {'Negative Review': 'only get pack'}\n",
      "Received message: {'Negative Review': 'thank you seller face mask until package ok'}\n",
      "Received message: {'Negative Review': 'quality entered well but lot plastic packages broke'}\n",
      "Received message: {'Negative Review': 'item not enough packages order black green up black green je'}\n"
     ]
    }
   ],
   "source": [
    "# Consume messages\n",
    "negativeConsumer.consume_messages()\n",
    "\n"
   ]
  },
  {
   "cell_type": "code",
   "execution_count": null,
   "id": "132ac472-d9e9-47e6-80c7-56731cb47641",
   "metadata": {},
   "outputs": [],
   "source": [
    "# Close the consumer connection\n",
    "negativeConsumer.close()"
   ]
  },
  {
   "cell_type": "code",
   "execution_count": null,
   "id": "19a1d846-d236-4f56-a030-884145b569d1",
   "metadata": {},
   "outputs": [],
   "source": [
    "spark.stop()"
   ]
  },
  {
   "cell_type": "code",
   "execution_count": null,
   "id": "424a11b5-a5a4-4683-901a-e8c9a3090c80",
   "metadata": {},
   "outputs": [],
   "source": []
  }
 ],
 "metadata": {
  "kernelspec": {
   "display_name": "de-venv",
   "language": "python",
   "name": "de-venv"
  },
  "language_info": {
   "codemirror_mode": {
    "name": "ipython",
    "version": 3
   },
   "file_extension": ".py",
   "mimetype": "text/x-python",
   "name": "python",
   "nbconvert_exporter": "python",
   "pygments_lexer": "ipython3",
   "version": "3.10.12"
  }
 },
 "nbformat": 4,
 "nbformat_minor": 5
}
